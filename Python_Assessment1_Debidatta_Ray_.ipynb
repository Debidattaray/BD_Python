{
  "nbformat": 4,
  "nbformat_minor": 0,
  "metadata": {
    "kernelspec": {
      "display_name": "Python 3",
      "language": "python",
      "name": "python3"
    },
    "language_info": {
      "codemirror_mode": {
        "name": "ipython",
        "version": 3
      },
      "file_extension": ".py",
      "mimetype": "text/x-python",
      "name": "python",
      "nbconvert_exporter": "python",
      "pygments_lexer": "ipython3",
      "version": "3.6.3"
    },
    "colab": {
      "name": "Python Assessment1-Debidatta Ray .ipynb",
      "provenance": [],
      "collapsed_sections": [],
      "include_colab_link": true
    }
  },
  "cells": [
    {
      "cell_type": "markdown",
      "metadata": {
        "id": "view-in-github",
        "colab_type": "text"
      },
      "source": [
        "<a href=\"https://colab.research.google.com/github/Debidattaray/BD_Python/blob/main/Python_Assessment1_Debidatta_Ray_.ipynb\" target=\"_parent\"><img src=\"https://colab.research.google.com/assets/colab-badge.svg\" alt=\"Open In Colab\"/></a>"
      ]
    },
    {
      "cell_type": "markdown",
      "metadata": {
        "id": "L1tge6F9ofdq"
      },
      "source": [
        ""
      ]
    },
    {
      "cell_type": "markdown",
      "metadata": {
        "id": "Y9F1gXe26Llc"
      },
      "source": [
        "# Python Take-home Exercise Debidatta Ray"
      ]
    },
    {
      "cell_type": "markdown",
      "metadata": {
        "id": "vkUDllqP6Llg"
      },
      "source": [
        "### 1. Write a program using list comprehension to find primes in range 2 to 100"
      ]
    },
    {
      "cell_type": "code",
      "metadata": {
        "id": "ykmGINls7VOo"
      },
      "source": [
        "a = [x for x in range(2, 101)\n",
        "     if all(x % y != 0 for y in range(2, x))]\n",
        "a\n"
      ],
      "execution_count": null,
      "outputs": []
    },
    {
      "cell_type": "markdown",
      "metadata": {
        "id": "92Uaj6Tf6Lli"
      },
      "source": [
        "### 2. Write a function to reverse a string"
      ]
    },
    {
      "cell_type": "code",
      "metadata": {
        "colab": {
          "base_uri": "https://localhost:8080/",
          "height": 53
        },
        "id": "1kF06fN_7qKz",
        "outputId": "8e3f7059-8c38-4edd-f554-a3cd0967f007"
      },
      "source": [
        "def reverse(s):\n",
        "    if len(s) == 0:\n",
        "        return s\n",
        "    else:\n",
        "        return reverse(s[1:]) + s[0]\n",
        "\n",
        "reverse(input(\"Enter the string to reverse: \"))"
      ],
      "execution_count": 2,
      "outputs": [
        {
          "name": "stdout",
          "output_type": "stream",
          "text": [
            "Enter the string to reverse: asd\n"
          ]
        },
        {
          "output_type": "execute_result",
          "data": {
            "application/vnd.google.colaboratory.intrinsic+json": {
              "type": "string"
            },
            "text/plain": [
              "'dsa'"
            ]
          },
          "metadata": {},
          "execution_count": 2
        }
      ]
    },
    {
      "cell_type": "code",
      "metadata": {
        "id": "oCCzfPFO7N_R"
      },
      "source": [
        ""
      ],
      "execution_count": null,
      "outputs": []
    },
    {
      "cell_type": "markdown",
      "metadata": {
        "id": "1R6n_K746Llj"
      },
      "source": [
        "**String = 'Data Science'**"
      ]
    },
    {
      "cell_type": "markdown",
      "metadata": {
        "id": "wSggz_u36Llk"
      },
      "source": [
        "### 3. Write a program to extract the words from the given list which have their first character in uppercase"
      ]
    },
    {
      "cell_type": "code",
      "metadata": {
        "colab": {
          "base_uri": "https://localhost:8080/"
        },
        "id": "uRhpFtFB8M0n",
        "outputId": "e1b48cb4-7efc-4aea-9e8e-8ff730637720"
      },
      "source": [
        "Days = ['Monday', 'tuesday','friday', 'Sunday', 'Saturday']\n",
        "op = []\n",
        "for i in Days:\n",
        "  if i[0].isupper() == True:\n",
        "    op.append(i)\n",
        "op"
      ],
      "execution_count": 5,
      "outputs": [
        {
          "output_type": "execute_result",
          "data": {
            "text/plain": [
              "['Monday', 'Sunday', 'Saturday']"
            ]
          },
          "metadata": {},
          "execution_count": 5
        }
      ]
    },
    {
      "cell_type": "markdown",
      "metadata": {
        "id": "BeN5LRp66Lll"
      },
      "source": [
        "**Days = ['Monday', 'tuesday','friday', 'Sunday', 'Saturday']**\n",
        "\n",
        "**Output: ['Monday', 'Sunday', 'Saturday']**"
      ]
    },
    {
      "cell_type": "markdown",
      "metadata": {
        "id": "xz00sDEQ6Llm"
      },
      "source": [
        "### 4. Write a program to extract the year part from the dates in the given list"
      ]
    },
    {
      "cell_type": "code",
      "metadata": {
        "colab": {
          "base_uri": "https://localhost:8080/"
        },
        "id": "F9sNmukY9igy",
        "outputId": "f2e59924-63b3-49d0-c9f8-ba3898cc6892"
      },
      "source": [
        "\n",
        "\n",
        "Batch = ['15-06-1997','15-06-2011','15-06-1993','15-06-2020']\n",
        "op4 = []\n",
        "for i in Batch:\n",
        "  op4.append(i[6:])\n",
        "op4\n"
      ],
      "execution_count": 8,
      "outputs": [
        {
          "output_type": "execute_result",
          "data": {
            "text/plain": [
              "['1997', '2011', '1993', '2020']"
            ]
          },
          "metadata": {},
          "execution_count": 8
        }
      ]
    },
    {
      "cell_type": "markdown",
      "metadata": {
        "id": "4cpM8BKv6Lln"
      },
      "source": [
        "**Batch = ['15-06-1997','15-06-2011','15-06-1993','15-06-2020']**\n",
        "\n",
        "**Output: ['1997','2011','1993','2020']**"
      ]
    },
    {
      "cell_type": "markdown",
      "metadata": {
        "id": "FN7C-tBS6Llp"
      },
      "source": [
        "### 5. Write a program swap the keys to values and values to keys of the given dictionary"
      ]
    },
    {
      "cell_type": "code",
      "metadata": {
        "colab": {
          "base_uri": "https://localhost:8080/"
        },
        "id": "5C78mN14-O3t",
        "outputId": "56a4db2d-8649-4e03-9fd9-8e731aa1c4b4"
      },
      "source": [
        "Module = {'Data Science':1,'Machine Learning':2, 'SQL':3, 'Big Data':4}\n",
        "new_dict = dict([(value, key) for key, value in Module.items()])\n",
        "\n",
        "new_dict"
      ],
      "execution_count": 12,
      "outputs": [
        {
          "output_type": "execute_result",
          "data": {
            "text/plain": [
              "{1: 'Data Science', 2: 'Machine Learning', 3: 'SQL', 4: 'Big Data'}"
            ]
          },
          "metadata": {},
          "execution_count": 12
        }
      ]
    },
    {
      "cell_type": "markdown",
      "metadata": {
        "id": "ik5LNYnO6Llq"
      },
      "source": [
        "**Module = {'Data Science':1,'Machine Learning':2, 'SQL':3, 'Big Data':4}**\n",
        "\n",
        "**Output: {1:'Data Science',2:'Machine Learning', 3:'SQL', 4:'Big Data'}**\n"
      ]
    },
    {
      "cell_type": "markdown",
      "metadata": {
        "id": "9fptxQOc6Llr"
      },
      "source": [
        "### 6. Wrote a program to calculate the cumulative average of the given list using accumulate() and lambda function"
      ]
    },
    {
      "cell_type": "code",
      "metadata": {
        "colab": {
          "base_uri": "https://localhost:8080/"
        },
        "id": "ZtnCuzLoAVlM",
        "outputId": "edff5a33-69af-4567-8097-40aa46d61918"
      },
      "source": [
        "\n",
        "from itertools import accumulate\n",
        "a=[5,2,1,4,6]\n",
        "k=list(accumulate(a,lambda x,y:x+y))\n",
        "k[len(k)-1]/len(k)\n"
      ],
      "execution_count": 52,
      "outputs": [
        {
          "output_type": "execute_result",
          "data": {
            "text/plain": [
              "3.6"
            ]
          },
          "metadata": {},
          "execution_count": 52
        }
      ]
    },
    {
      "cell_type": "code",
      "metadata": {
        "id": "Fha-wz_q_2DK"
      },
      "source": [
        ""
      ],
      "execution_count": null,
      "outputs": []
    },
    {
      "cell_type": "markdown",
      "metadata": {
        "id": "BLTEhNEe6Lls"
      },
      "source": [
        "**Input list: [5,2,1,4,6]**"
      ]
    },
    {
      "cell_type": "markdown",
      "metadata": {
        "id": "NqGbMp3T6Lls"
      },
      "source": [
        "### 7. Write a program to count the number of elements in the string (given by the user) that are not present in the 'my_string'. Do not count the white spaces\n",
        "\n",
        "Use Recursion"
      ]
    },
    {
      "cell_type": "code",
      "metadata": {
        "colab": {
          "base_uri": "https://localhost:8080/"
        },
        "id": "9HYTv4F3DjWe",
        "outputId": "10eb484e-e12f-4221-ebdb-98e00342db84"
      },
      "source": [
        "my_string = 'Data Science'\n",
        "a=0\n",
        "for i in my_string:\n",
        "  if i != \" \":\n",
        "    a +=1\n",
        "\n",
        "a"
      ],
      "execution_count": 18,
      "outputs": [
        {
          "output_type": "execute_result",
          "data": {
            "text/plain": [
              "11"
            ]
          },
          "metadata": {},
          "execution_count": 18
        }
      ]
    },
    {
      "cell_type": "markdown",
      "metadata": {
        "id": "5bZQHmSX6Llt"
      },
      "source": [
        "**my_string = 'Data Science'**"
      ]
    },
    {
      "cell_type": "markdown",
      "metadata": {
        "id": "jpgrkJTs6Llu"
      },
      "source": [
        "### 8.  Define a function to check whether a number is in a range (1000,10000) or not"
      ]
    },
    {
      "cell_type": "code",
      "metadata": {
        "colab": {
          "base_uri": "https://localhost:8080/"
        },
        "id": "RbXdc2m9EnXl",
        "outputId": "00cb4694-170f-417a-cca7-38f0b35caec6"
      },
      "source": [
        "def test_range(n):\n",
        "    if n in range(1000,10001):\n",
        "        print( \" %s is in the range\"%str(n))\n",
        "    else :\n",
        "        print(\"The number is outside the given range.\")\n",
        "test_range(5666)"
      ],
      "execution_count": 27,
      "outputs": [
        {
          "output_type": "stream",
          "name": "stdout",
          "text": [
            " 5666 is in the range\n"
          ]
        }
      ]
    },
    {
      "cell_type": "markdown",
      "metadata": {
        "id": "E3iCu7X16Llu"
      },
      "source": [
        "### 9. Write a program to print pascal triangle upto 6 steps (using list)"
      ]
    },
    {
      "cell_type": "code",
      "metadata": {
        "colab": {
          "base_uri": "https://localhost:8080/"
        },
        "id": "60J0BiBrGizd",
        "outputId": "b974e9e7-f79f-4eb8-dbad-2312506ec7bc"
      },
      "source": [
        "\n",
        "n = 6\n",
        "for i in range(1, n+1):\n",
        "\tfor j in range(0, n-i+1):\n",
        "\t\tprint(' ', end='')\n",
        "\tC = 1\n",
        "\tfor j in range(1, i+1):\n",
        "\t\tprint(' ', C, sep='', end='')\n",
        "\t\tC = C * (i - j) // j\n",
        "\tprint()\n"
      ],
      "execution_count": 29,
      "outputs": [
        {
          "output_type": "stream",
          "name": "stdout",
          "text": [
            "       1\n",
            "      1 1\n",
            "     1 2 1\n",
            "    1 3 3 1\n",
            "   1 4 6 4 1\n",
            "  1 5 10 10 5 1\n"
          ]
        }
      ]
    },
    {
      "cell_type": "markdown",
      "metadata": {
        "id": "bDNl2ntf6Llv"
      },
      "source": [
        "### 10. Write a program to calculate the sum of all elements in the list"
      ]
    },
    {
      "cell_type": "code",
      "metadata": {
        "colab": {
          "base_uri": "https://localhost:8080/"
        },
        "id": "iS0a2Fq4G6z0",
        "outputId": "d1c232ad-9ea1-4140-f9bf-bb5a03a9a6f0"
      },
      "source": [
        "test_score = [10, 32, 23, 14, 25]\n",
        "print(sum(test_score))"
      ],
      "execution_count": 30,
      "outputs": [
        {
          "output_type": "stream",
          "name": "stdout",
          "text": [
            "104\n"
          ]
        }
      ]
    },
    {
      "cell_type": "markdown",
      "metadata": {
        "id": "B-XQvpDz6Llv"
      },
      "source": [
        "**test_score = [10, 32, 23, 14, 25]**"
      ]
    },
    {
      "cell_type": "markdown",
      "metadata": {
        "id": "jdfRxyX06Llw"
      },
      "source": [
        "### 11. Find the minimum value along each of the rows"
      ]
    },
    {
      "cell_type": "code",
      "metadata": {
        "colab": {
          "base_uri": "https://localhost:8080/"
        },
        "id": "O6upVIB_IAfC",
        "outputId": "f3fa45a1-80f7-41c7-b45f-678fbe5b2b20"
      },
      "source": [
        "import numpy as np\n",
        "\n",
        "Score = np.array([[210, 402, 383],\n",
        "[140, 375, 106],\n",
        "[140, 125, 217],\n",
        "[292, 240, 295]])\n",
        "Score.min(axis=1)"
      ],
      "execution_count": 32,
      "outputs": [
        {
          "output_type": "execute_result",
          "data": {
            "text/plain": [
              "array([210, 106, 125, 240])"
            ]
          },
          "metadata": {},
          "execution_count": 32
        }
      ]
    },
    {
      "cell_type": "code",
      "metadata": {
        "id": "1jOsH6ESHE74"
      },
      "source": [
        ""
      ],
      "execution_count": null,
      "outputs": []
    },
    {
      "cell_type": "markdown",
      "metadata": {
        "id": "OLn44Irb6Llx"
      },
      "source": [
        "Create a 2D Numpy array from list of lists<br>\n",
        "\n",
        "Score = np.array([[210, 402, 383],<br>\n",
        "                 [140, 375, 106], <br>\n",
        "                 [140, 125, 217], <br>\n",
        "                 [292, 240, 295]])"
      ]
    },
    {
      "cell_type": "markdown",
      "metadata": {
        "id": "W0sXJS0A6Llx"
      },
      "source": [
        "### 12.  Replace all even numbers in the array with -1"
      ]
    },
    {
      "cell_type": "code",
      "metadata": {
        "colab": {
          "base_uri": "https://localhost:8080/"
        },
        "id": "lJ2f8w09JFdI",
        "outputId": "2f414fcd-36bf-4b0f-d3ce-e4f30df40950"
      },
      "source": [
        "num_array = np.array([0, 21, 32, 13, 44, 45, 26, 28, 38, 34, 65, 48, 76])\n",
        "op12 = []\n",
        "for i in num_array:\n",
        "  if i % 2 == 0:\n",
        "    op12.append(-1)\n",
        "  else:\n",
        "    op12.append(i)\n",
        "\n",
        "op12"
      ],
      "execution_count": 37,
      "outputs": [
        {
          "output_type": "execute_result",
          "data": {
            "text/plain": [
              "[-1, 21, -1, 13, -1, 45, -1, -1, -1, -1, 65, -1, -1]"
            ]
          },
          "metadata": {},
          "execution_count": 37
        }
      ]
    },
    {
      "cell_type": "markdown",
      "metadata": {
        "id": "rHZdKZXP6Lly"
      },
      "source": [
        "Use the array given below\n",
        "\n",
        "    num_array = np.array([0, 21, 32, 13, 44, 45, 26, 28, 38, 34, 65, 48, 76])"
      ]
    },
    {
      "cell_type": "markdown",
      "metadata": {
        "id": "zra-azQF6Lly"
      },
      "source": [
        "### 13. Create a pandas series having values 4, 8, -1, 2, NAN and their index as d, b, a, c, e"
      ]
    },
    {
      "cell_type": "code",
      "metadata": {
        "colab": {
          "base_uri": "https://localhost:8080/"
        },
        "id": "MkflPjLNKgtE",
        "outputId": "2bb61218-4ef5-4859-f05d-2b179dc5106f"
      },
      "source": [
        "import pandas as pd\n",
        "import numpy as np\n",
        "\n",
        "data = np.array([4 , 8 , -1, 2, \"NAN\"])\n",
        "ser = pd.Series(data, index =[\"d\", \"b\", \"a\", \"c\", \"e\"])\n",
        "print(ser)\n"
      ],
      "execution_count": 39,
      "outputs": [
        {
          "output_type": "stream",
          "name": "stdout",
          "text": [
            "d      4\n",
            "b      8\n",
            "a     -1\n",
            "c      2\n",
            "e    NAN\n",
            "dtype: object\n"
          ]
        }
      ]
    },
    {
      "cell_type": "code",
      "metadata": {
        "id": "-b2iuRbqKHJL"
      },
      "source": [
        ""
      ],
      "execution_count": null,
      "outputs": []
    },
    {
      "cell_type": "markdown",
      "metadata": {
        "id": "UagjEgrC6Llz"
      },
      "source": [
        "### 14. Add a new column 'Height' in the give dataframe"
      ]
    },
    {
      "cell_type": "code",
      "metadata": {
        "colab": {
          "base_uri": "https://localhost:8080/",
          "height": 175
        },
        "id": "5uiSJsq3LR12",
        "outputId": "ed3d9185-c2f9-4c68-94ea-18552ed1d990"
      },
      "source": [
        "import pandas as pd\n",
        "\n",
        "data = {'Name': ['Mia', 'Joy', 'Karan', 'George'],\n",
        "\t\t'Weight': [55, 66, 88, 55]\n",
        "    }\n",
        "\n",
        "df = pd.DataFrame(data)\n",
        "Height = [4.5,5,6,6]\n",
        "\n",
        "df['Height'] = Height\n",
        "\n",
        "df\n",
        "\n"
      ],
      "execution_count": 69,
      "outputs": [
        {
          "output_type": "execute_result",
          "data": {
            "text/html": [
              "<div>\n",
              "<style scoped>\n",
              "    .dataframe tbody tr th:only-of-type {\n",
              "        vertical-align: middle;\n",
              "    }\n",
              "\n",
              "    .dataframe tbody tr th {\n",
              "        vertical-align: top;\n",
              "    }\n",
              "\n",
              "    .dataframe thead th {\n",
              "        text-align: right;\n",
              "    }\n",
              "</style>\n",
              "<table border=\"1\" class=\"dataframe\">\n",
              "  <thead>\n",
              "    <tr style=\"text-align: right;\">\n",
              "      <th></th>\n",
              "      <th>Name</th>\n",
              "      <th>Weight</th>\n",
              "      <th>Height</th>\n",
              "    </tr>\n",
              "  </thead>\n",
              "  <tbody>\n",
              "    <tr>\n",
              "      <th>0</th>\n",
              "      <td>Mia</td>\n",
              "      <td>55</td>\n",
              "      <td>4.5</td>\n",
              "    </tr>\n",
              "    <tr>\n",
              "      <th>1</th>\n",
              "      <td>Joy</td>\n",
              "      <td>66</td>\n",
              "      <td>5.0</td>\n",
              "    </tr>\n",
              "    <tr>\n",
              "      <th>2</th>\n",
              "      <td>Karan</td>\n",
              "      <td>88</td>\n",
              "      <td>6.0</td>\n",
              "    </tr>\n",
              "    <tr>\n",
              "      <th>3</th>\n",
              "      <td>George</td>\n",
              "      <td>55</td>\n",
              "      <td>6.0</td>\n",
              "    </tr>\n",
              "  </tbody>\n",
              "</table>\n",
              "</div>"
            ],
            "text/plain": [
              "     Name  Weight  Height\n",
              "0     Mia      55     4.5\n",
              "1     Joy      66     5.0\n",
              "2   Karan      88     6.0\n",
              "3  George      55     6.0"
            ]
          },
          "metadata": {},
          "execution_count": 69
        }
      ]
    },
    {
      "cell_type": "markdown",
      "metadata": {
        "id": "gVb60fP66Llz"
      },
      "source": [
        "<table>\n",
        "  <tr>\n",
        "  <th>Name </th>\n",
        "  <th>Weight</th>\n",
        "  </tr>\n",
        "  <tr>\n",
        "  <td>Mia</td>\n",
        "  <td>55</td>    \n",
        "  </tr>\n",
        "  <tr>\n",
        "  <td>Joy</td>\n",
        "  <td>66</td> \n",
        "  </tr>\n",
        "  <tr>\n",
        "  <td>Karan</td>\n",
        "  <td>80</td> \n",
        "  </tr>\n",
        "  <tr>\n",
        "  <td>George</td>\n",
        "  <td>67</td> \n",
        "</tr>\n",
        "</table>\n",
        "  "
      ]
    },
    {
      "cell_type": "code",
      "metadata": {
        "id": "kmLj1H82LPR8"
      },
      "source": [
        ""
      ],
      "execution_count": null,
      "outputs": []
    },
    {
      "cell_type": "markdown",
      "metadata": {
        "id": "F03TRyhV6Llz"
      },
      "source": [
        "New Column:\n",
        "<table>\n",
        "  <tr>\n",
        "  <th>Height</th>   \n",
        "  </tr>\n",
        "  <tr>\n",
        "  <td>5.5</td>\n",
        "  </tr>\n",
        "  <tr>\n",
        "  <td>6.7</td>\n",
        "  </tr>\n",
        "  <tr>\n",
        "  <td>5.8</td>\n",
        "  </tr>\n",
        "  <tr>\n",
        "  <td>6</td>\n",
        "</tr>\n",
        "</table>"
      ]
    },
    {
      "cell_type": "code",
      "metadata": {
        "id": "F3qlrUdfLEpQ"
      },
      "source": [
        ""
      ],
      "execution_count": null,
      "outputs": []
    },
    {
      "cell_type": "markdown",
      "metadata": {
        "id": "aZ9s4wjG6Ll0"
      },
      "source": [
        "### 15. Use the data created in question 14, to do the following:\n",
        "Access column 'Name' by specifying the column number<br>\n",
        "Access column 'Height' by specifying the column name"
      ]
    },
    {
      "cell_type": "code",
      "metadata": {
        "colab": {
          "base_uri": "https://localhost:8080/"
        },
        "id": "7o6p-NwwMJlk",
        "outputId": "8d401251-7f7b-44ee-ee04-9ead40392867"
      },
      "source": [
        "df.iloc[:,0] \n",
        "df['Height']"
      ],
      "execution_count": 49,
      "outputs": [
        {
          "output_type": "execute_result",
          "data": {
            "text/plain": [
              "0    4.5\n",
              "1    5.0\n",
              "2    6.0\n",
              "3    6.0\n",
              "Name: Height, dtype: float64"
            ]
          },
          "metadata": {},
          "execution_count": 49
        }
      ]
    },
    {
      "cell_type": "markdown",
      "metadata": {
        "id": "eKDuZnfa6Ll1"
      },
      "source": [
        "### 16. Find duplicate rows based on the column 'Order_ID'\n",
        "\n",
        ">\n",
        "\n",
        ">\n",
        "\n",
        "\n",
        "\n"
      ]
    },
    {
      "cell_type": "code",
      "metadata": {
        "colab": {
          "base_uri": "https://localhost:8080/",
          "height": 192
        },
        "id": "Z2m4-g7DM583",
        "outputId": "3a07ed0c-2627-4bd3-da67-3e982d107ffd"
      },
      "source": [
        "\n",
        "\n",
        "# df\n",
        "# df[df.duplicated(['Height'], keep=False)]\n",
        "# df[df.duplicated(['Order_ID'], keep=False)]\n",
        "\n",
        "\n",
        "\n",
        "# --------------------------------\n",
        "import pandas as pd\n",
        "\n",
        "Prod = [\n",
        "(\"YZ1100\",\t'Cell Phone',\t\"Sydeny\"),\n",
        "(\"RW1200\",\t\"Watch\"\t,\"Chicago\"),\n",
        "(\"YZ1100\",\t\"Cell Phone\",\t\"New York\"),\n",
        "(\"TY1400\",\t\"Charger\",\t\"Chicago\"),\n",
        "(\"VB1500\",\t\"Watch\"\t,\"Chicago\"),\n",
        "(\"TY1400\",\t\"Headphones\",\t\"Texas\"),\n",
        "(\"MW1600\",\t\"Charger\",\t\"New York\"),\n",
        "(\"CN1600\",\t\"Headphones\",\t\"Chicago\")\n",
        "\t\t\t]\n",
        "df = pd.DataFrame(Prod,\n",
        "\t\t\t\tcolumns = ['Order_ID', 'Products', 'City'])\n",
        "\n",
        "\n",
        "print(\"Duplicate Rows :\")\n",
        "dp=df[df.duplicated(['Order_ID'], keep=False)]\n",
        "# Print the resultant Dataframe\n",
        "# dp\n",
        "# df\n",
        "dp\n"
      ],
      "execution_count": 88,
      "outputs": [
        {
          "output_type": "stream",
          "name": "stdout",
          "text": [
            "Duplicate Rows :\n"
          ]
        },
        {
          "output_type": "execute_result",
          "data": {
            "text/html": [
              "<div>\n",
              "<style scoped>\n",
              "    .dataframe tbody tr th:only-of-type {\n",
              "        vertical-align: middle;\n",
              "    }\n",
              "\n",
              "    .dataframe tbody tr th {\n",
              "        vertical-align: top;\n",
              "    }\n",
              "\n",
              "    .dataframe thead th {\n",
              "        text-align: right;\n",
              "    }\n",
              "</style>\n",
              "<table border=\"1\" class=\"dataframe\">\n",
              "  <thead>\n",
              "    <tr style=\"text-align: right;\">\n",
              "      <th></th>\n",
              "      <th>Order_ID</th>\n",
              "      <th>Products</th>\n",
              "      <th>City</th>\n",
              "    </tr>\n",
              "  </thead>\n",
              "  <tbody>\n",
              "    <tr>\n",
              "      <th>0</th>\n",
              "      <td>YZ1100</td>\n",
              "      <td>Cell Phone</td>\n",
              "      <td>Sydeny</td>\n",
              "    </tr>\n",
              "    <tr>\n",
              "      <th>2</th>\n",
              "      <td>YZ1100</td>\n",
              "      <td>Cell Phone</td>\n",
              "      <td>New York</td>\n",
              "    </tr>\n",
              "    <tr>\n",
              "      <th>3</th>\n",
              "      <td>TY1400</td>\n",
              "      <td>Charger</td>\n",
              "      <td>Chicago</td>\n",
              "    </tr>\n",
              "    <tr>\n",
              "      <th>5</th>\n",
              "      <td>TY1400</td>\n",
              "      <td>Headphones</td>\n",
              "      <td>Texas</td>\n",
              "    </tr>\n",
              "  </tbody>\n",
              "</table>\n",
              "</div>"
            ],
            "text/plain": [
              "  Order_ID    Products      City\n",
              "0   YZ1100  Cell Phone    Sydeny\n",
              "2   YZ1100  Cell Phone  New York\n",
              "3   TY1400     Charger   Chicago\n",
              "5   TY1400  Headphones     Texas"
            ]
          },
          "metadata": {},
          "execution_count": 88
        }
      ]
    },
    {
      "cell_type": "markdown",
      "metadata": {
        "id": "UZ5hhxGP6Ll1"
      },
      "source": [
        "**Use the dataframe given below:**\n",
        "   \n",
        "<table>\n",
        "<tr>\n",
        "<th>Order_ID</th>\n",
        "<th>Product</th>\n",
        "<th>City</th>\n",
        "</tr>\n",
        "<tr>\n",
        "<td>YZ1100</td>\n",
        "<td>Cell Phone</td>\n",
        "<td>Sydeny</td>\n",
        "</tr>\n",
        "<tr>\n",
        "<td>RW1200</td>\n",
        "<td>Watch</td>\n",
        "<td>Chicago</td>\n",
        "</tr>\n",
        "<tr>\n",
        "<td>YZ1100</td>\n",
        "<td>Cell Phone</td>\n",
        "<td>New York</td>\n",
        "</tr>\n",
        "<tr>\n",
        "<td>TY1400</td>\n",
        "<td>Charger</td>\n",
        "<td>Chicago</td>\n",
        "</tr>\n",
        "<tr>\n",
        "<td>VB1500</td>\n",
        "<td>Watch</td>\n",
        "<td>Chicago</td>\n",
        "</tr>\n",
        "<tr>\n",
        "<td>TY1400</td>\n",
        "<td>Headphones</td>\n",
        "<td>Texas</td>\n",
        "</tr>\n",
        "<tr>\n",
        "<td>MW1600</td>\n",
        "<td>Charger</td>\n",
        "<td>New York</td>\n",
        "</tr>\n",
        "<tr>\n",
        "<td>CN1600</td>\n",
        "<td>Headphones</td>\n",
        "<td>Chicago</td>\n",
        "</tr>\n",
        "   \n",
        "</table>"
      ]
    },
    {
      "cell_type": "markdown",
      "metadata": {
        "id": "BGfN_ebA6Ll2"
      },
      "source": [
        "### 17. Use the data created in question 16, to do the following:\n",
        "In column 'Product', replace all the 'Cell Phone' values with 'Mobile' using numpy.where\n"
      ]
    },
    {
      "cell_type": "code",
      "metadata": {
        "colab": {
          "base_uri": "https://localhost:8080/",
          "height": 300
        },
        "id": "ATp_81nGRKkn",
        "outputId": "3280b400-72be-450c-ed5a-04d521983ab2"
      },
      "source": [
        "df['Products'] = df['Products'].replace('Cell Phone','Mobile')\n",
        "df\n",
        "\n"
      ],
      "execution_count": 87,
      "outputs": [
        {
          "output_type": "execute_result",
          "data": {
            "text/html": [
              "<div>\n",
              "<style scoped>\n",
              "    .dataframe tbody tr th:only-of-type {\n",
              "        vertical-align: middle;\n",
              "    }\n",
              "\n",
              "    .dataframe tbody tr th {\n",
              "        vertical-align: top;\n",
              "    }\n",
              "\n",
              "    .dataframe thead th {\n",
              "        text-align: right;\n",
              "    }\n",
              "</style>\n",
              "<table border=\"1\" class=\"dataframe\">\n",
              "  <thead>\n",
              "    <tr style=\"text-align: right;\">\n",
              "      <th></th>\n",
              "      <th>Order_ID</th>\n",
              "      <th>Products</th>\n",
              "      <th>City</th>\n",
              "    </tr>\n",
              "  </thead>\n",
              "  <tbody>\n",
              "    <tr>\n",
              "      <th>0</th>\n",
              "      <td>YZ1100</td>\n",
              "      <td>Mobile</td>\n",
              "      <td>Sydeny</td>\n",
              "    </tr>\n",
              "    <tr>\n",
              "      <th>1</th>\n",
              "      <td>RW1200</td>\n",
              "      <td>Watch</td>\n",
              "      <td>Chicago</td>\n",
              "    </tr>\n",
              "    <tr>\n",
              "      <th>2</th>\n",
              "      <td>YZ1100</td>\n",
              "      <td>Mobile</td>\n",
              "      <td>New York</td>\n",
              "    </tr>\n",
              "    <tr>\n",
              "      <th>3</th>\n",
              "      <td>TY1400</td>\n",
              "      <td>Charger</td>\n",
              "      <td>Chicago</td>\n",
              "    </tr>\n",
              "    <tr>\n",
              "      <th>4</th>\n",
              "      <td>VB1500</td>\n",
              "      <td>Watch</td>\n",
              "      <td>Chicago</td>\n",
              "    </tr>\n",
              "    <tr>\n",
              "      <th>5</th>\n",
              "      <td>TY1400</td>\n",
              "      <td>Headphones</td>\n",
              "      <td>Texas</td>\n",
              "    </tr>\n",
              "    <tr>\n",
              "      <th>6</th>\n",
              "      <td>MW1600</td>\n",
              "      <td>Charger</td>\n",
              "      <td>New York</td>\n",
              "    </tr>\n",
              "    <tr>\n",
              "      <th>7</th>\n",
              "      <td>CN1600</td>\n",
              "      <td>Headphones</td>\n",
              "      <td>Chicago</td>\n",
              "    </tr>\n",
              "  </tbody>\n",
              "</table>\n",
              "</div>"
            ],
            "text/plain": [
              "  Order_ID    Products      City\n",
              "0   YZ1100      Mobile    Sydeny\n",
              "1   RW1200       Watch   Chicago\n",
              "2   YZ1100      Mobile  New York\n",
              "3   TY1400     Charger   Chicago\n",
              "4   VB1500       Watch   Chicago\n",
              "5   TY1400  Headphones     Texas\n",
              "6   MW1600     Charger  New York\n",
              "7   CN1600  Headphones   Chicago"
            ]
          },
          "metadata": {},
          "execution_count": 87
        }
      ]
    },
    {
      "cell_type": "code",
      "metadata": {
        "id": "s9HCnFCZQKOi"
      },
      "source": [
        ""
      ],
      "execution_count": null,
      "outputs": []
    },
    {
      "cell_type": "code",
      "metadata": {
        "id": "h7FTWeaLPZQE"
      },
      "source": [
        ""
      ],
      "execution_count": null,
      "outputs": []
    },
    {
      "cell_type": "markdown",
      "metadata": {
        "id": "DuXmAEH76Ll2"
      },
      "source": [
        "### 18. Perform right join to combine values based on the 'ID' in the two dataframes"
      ]
    },
    {
      "cell_type": "code",
      "metadata": {
        "colab": {
          "base_uri": "https://localhost:8080/",
          "height": 269
        },
        "id": "_VbSPi4tf9f6",
        "outputId": "c6173e32-ea3b-4d5a-a259-11e954530bf7"
      },
      "source": [
        "cand1 = [\n",
        "(101,\t\"Alex\",\t\"History\"),\n",
        "(102,\t\"Amy\"\t,\"English\"),\n",
        "(103,\t\"Allen\",\t\"Geography\"),\n",
        "(104\t,\"Alice\",\t\"German\"),\n",
        "(105\t,\"James\",\t\"History\"),\n",
        "(106\t,\"Sara\",\t\"German\"),\n",
        "(107\t,\"Mia\",\t\"English\"),\n",
        "]\n",
        "df1 = pd.DataFrame(cand1,\n",
        "\t\t\t\tcolumns = ['ID', 'Candidate_Name', 'Subject'])\n",
        "# df1\n",
        "\n",
        "cand2 = [\n",
        "(101,\t\"Delhi\"\t,89),\n",
        "(102,\t\"Mumbai\",\t78),\n",
        "(103,\t\"Delhi\"\t,77),\n",
        "(104,\t\"Chennai\"\t,87),\n",
        "(105,\t\"Hyderabad\",\t87),\n",
        "(108,\t\"Delhi\"\t,84)\n",
        "]\n",
        "\n",
        "df2 = pd.DataFrame(cand2,columns=[\"ID\",\"City\",\"Subject_Score\"])\n",
        "# df2\n",
        "df_left = pd.merge(df1, df2, on='ID', how='left')\n",
        "df_left"
      ],
      "execution_count": 95,
      "outputs": [
        {
          "output_type": "execute_result",
          "data": {
            "text/html": [
              "<div>\n",
              "<style scoped>\n",
              "    .dataframe tbody tr th:only-of-type {\n",
              "        vertical-align: middle;\n",
              "    }\n",
              "\n",
              "    .dataframe tbody tr th {\n",
              "        vertical-align: top;\n",
              "    }\n",
              "\n",
              "    .dataframe thead th {\n",
              "        text-align: right;\n",
              "    }\n",
              "</style>\n",
              "<table border=\"1\" class=\"dataframe\">\n",
              "  <thead>\n",
              "    <tr style=\"text-align: right;\">\n",
              "      <th></th>\n",
              "      <th>ID</th>\n",
              "      <th>Candidate_Name</th>\n",
              "      <th>Subject</th>\n",
              "      <th>City</th>\n",
              "      <th>Subject_Score</th>\n",
              "    </tr>\n",
              "  </thead>\n",
              "  <tbody>\n",
              "    <tr>\n",
              "      <th>0</th>\n",
              "      <td>101</td>\n",
              "      <td>Alex</td>\n",
              "      <td>History</td>\n",
              "      <td>Delhi</td>\n",
              "      <td>89.0</td>\n",
              "    </tr>\n",
              "    <tr>\n",
              "      <th>1</th>\n",
              "      <td>102</td>\n",
              "      <td>Amy</td>\n",
              "      <td>English</td>\n",
              "      <td>Mumbai</td>\n",
              "      <td>78.0</td>\n",
              "    </tr>\n",
              "    <tr>\n",
              "      <th>2</th>\n",
              "      <td>103</td>\n",
              "      <td>Allen</td>\n",
              "      <td>Geography</td>\n",
              "      <td>Delhi</td>\n",
              "      <td>77.0</td>\n",
              "    </tr>\n",
              "    <tr>\n",
              "      <th>3</th>\n",
              "      <td>104</td>\n",
              "      <td>Alice</td>\n",
              "      <td>German</td>\n",
              "      <td>Chennai</td>\n",
              "      <td>87.0</td>\n",
              "    </tr>\n",
              "    <tr>\n",
              "      <th>4</th>\n",
              "      <td>105</td>\n",
              "      <td>James</td>\n",
              "      <td>History</td>\n",
              "      <td>Hyderabad</td>\n",
              "      <td>87.0</td>\n",
              "    </tr>\n",
              "    <tr>\n",
              "      <th>5</th>\n",
              "      <td>106</td>\n",
              "      <td>Sara</td>\n",
              "      <td>German</td>\n",
              "      <td>NaN</td>\n",
              "      <td>NaN</td>\n",
              "    </tr>\n",
              "    <tr>\n",
              "      <th>6</th>\n",
              "      <td>107</td>\n",
              "      <td>Mia</td>\n",
              "      <td>English</td>\n",
              "      <td>NaN</td>\n",
              "      <td>NaN</td>\n",
              "    </tr>\n",
              "  </tbody>\n",
              "</table>\n",
              "</div>"
            ],
            "text/plain": [
              "    ID Candidate_Name    Subject       City  Subject_Score\n",
              "0  101           Alex    History      Delhi           89.0\n",
              "1  102            Amy    English     Mumbai           78.0\n",
              "2  103          Allen  Geography      Delhi           77.0\n",
              "3  104          Alice     German    Chennai           87.0\n",
              "4  105          James    History  Hyderabad           87.0\n",
              "5  106           Sara     German        NaN            NaN\n",
              "6  107            Mia    English        NaN            NaN"
            ]
          },
          "metadata": {},
          "execution_count": 95
        }
      ]
    },
    {
      "cell_type": "markdown",
      "metadata": {
        "id": "e8P9N4Nk6Ll2"
      },
      "source": [
        "**Use the dataframe given below:**\n",
        "   \n",
        "<table>\n",
        "    <tr>\n",
        "        <th>ID</th>\n",
        "        <th>Candidate_Name</th>\n",
        "        <th>Subject</th>\n",
        "    </tr>\n",
        "    <tr>\n",
        "        <td>101</td>\n",
        "        <td>Alex</td>\n",
        "        <td>History</td>\n",
        "    </tr>\n",
        "    <tr>\n",
        "        <td>102</td>\n",
        "        <td>Amy</td>\n",
        "        <td>English</td>\n",
        "    </tr>\n",
        "    <tr>\n",
        "        <td>103</td>\n",
        "        <td>Allen</td>\n",
        "        <td>Geography</td>\n",
        "    </tr>\n",
        "    <tr>\n",
        "        <td>104</td>\n",
        "        <td>Alice</td>\n",
        "        <td>German</td>\n",
        "    </tr>\n",
        "        <td>105</td>\n",
        "        <td>James</td>\n",
        "        <td>History</td>\n",
        "    </tr>\n",
        "    <tr>\n",
        "        <td>106</td>\n",
        "        <td>Sara</td>\n",
        "        <td>German</td>\n",
        "    </tr>\n",
        "    <tr>\n",
        "        <td>107</td>\n",
        "        <td>Mia</td>\n",
        "        <td>English</td>\n",
        "    </tr>  \n",
        "</table>\n",
        "<br>\n",
        "\n",
        "\n",
        "\n",
        "<table>\n",
        "    <tr>\n",
        "        <th>ID</th>\n",
        "        <th>City</th>\n",
        "        <th>Subject_Score</th>\n",
        "    </tr>\n",
        "    <tr>\n",
        "        <td>101</td>\n",
        "        <td>Delhi</td>\n",
        "        <td>89</td>\n",
        "    </tr>\n",
        "    <tr>\n",
        "        <td>102</td>\n",
        "        <td>Mumbai</td>\n",
        "        <td>78</td>\n",
        "    </tr>\n",
        "    <tr>\n",
        "        <td>103</td>\n",
        "        <td>Delhi</td>\n",
        "        <td>77</td>\n",
        "    </tr>\n",
        "    <tr>\n",
        "        <td>104</td>\n",
        "        <td>Chennai</td>\n",
        "        <td>87</td>\n",
        "    </tr>\n",
        "    <tr>\n",
        "        <td>105</td>\n",
        "        <td>Hyderabad</td>\n",
        "        <td>87</td>\n",
        "    </tr>\n",
        "        <td>108</td>\n",
        "        <td>Delhi</td>\n",
        "        <td>84</td>\n",
        "\n",
        "    </tr>\n",
        "</table>"
      ]
    },
    {
      "cell_type": "code",
      "metadata": {
        "id": "DlkdbTxLf2cj"
      },
      "source": [
        ""
      ],
      "execution_count": null,
      "outputs": []
    },
    {
      "cell_type": "markdown",
      "metadata": {
        "id": "89CE6z-Z6Ll3"
      },
      "source": [
        "### 19. Use the following data to plot a pie chart and annotate the percentage sales"
      ]
    },
    {
      "cell_type": "markdown",
      "metadata": {
        "id": "uSAChD5V6Ll3"
      },
      "source": [
        "<table>\n",
        "    <tr>\n",
        "        <th>City</th>\n",
        "        <th>Sales</th>\n",
        "    </tr>\n",
        "    <tr>\n",
        "        <td>Delhi</td>\n",
        "        <td>890</td>\n",
        "    </tr>\n",
        "    <tr>\n",
        "        <td>Mumbai</td>\n",
        "        <td>784</td>\n",
        "    </tr>\n",
        "    <tr>\n",
        "        <td>Delhi</td>\n",
        "        <td>775</td>\n",
        "    </tr>\n",
        "    <tr>\n",
        "        <td>Chennai</td>\n",
        "        <td>873</td>\n",
        "    </tr>\n",
        "    <tr>\n",
        "        <td>Hyderabad</td>\n",
        "        <td>387</td>\n",
        "    </tr>\n",
        "        <td>Delhi</td>\n",
        "        <td>684</td>\n",
        "\n",
        "    </tr>\n",
        "</table>"
      ]
    },
    {
      "cell_type": "code",
      "metadata": {
        "colab": {
          "base_uri": "https://localhost:8080/",
          "height": 248
        },
        "id": "-AYEbFYFju4D",
        "outputId": "df2e6463-ec24-428c-f7eb-f74628b10588"
      },
      "source": [
        "import matplotlib.pyplot as plt\n",
        "\n",
        "City = 'Delhi', 'Mumbai', 'delhi', 'Chennai', 'Hyderabad', 'DELHI'\n",
        "Sales = [890, 784, 775, 873, 387, 684]\n",
        "\n",
        "figureObject, axesObject = plt.subplots()\n",
        "\n",
        "axesObject.pie(Sales,labels=City)\n",
        "\n",
        "startangle = 120,\n",
        "autopct = '%.1f%%',\n",
        "\n",
        "axesObject.axis('equal')\n",
        "\n",
        "plotter.show()"
      ],
      "execution_count": 97,
      "outputs": [
        {
          "output_type": "display_data",
          "data": {
            "image/png": "[encoded data removed]",
            "text/plain": [
              "<Figure size 432x288 with 1 Axes>"
            ]
          },
          "metadata": {}
        }
      ]
    },
    {
      "cell_type": "markdown",
      "metadata": {
        "id": "7-PmQ8I76Ll4"
      },
      "source": [
        "### 20. Use the data created in question 19, to do the following:\n",
        "Calculate minimum, maximum and average sales for each origin"
      ]
    },
    {
      "cell_type": "code",
      "metadata": {
        "colab": {
          "base_uri": "https://localhost:8080/",
          "height": 206
        },
        "id": "2AE4_WmGk7Vj",
        "outputId": "0fbbbf40-c988-49a9-8417-c6c90c3d37ea"
      },
      "source": [
        "city = [\n",
        "(\"Delhi\",\t890),\n",
        "(\"Mumbai\"\t,784),\n",
        "(\"Delhi\",\t775),\n",
        "(\"Chennai\",\t873),\n",
        "(\"Hyderabad\",\t387),\n",
        "(\"Delhi\",\t684)\n",
        "]\n",
        "df3 = pd.DataFrame(city,columns=[\"City\",\"Sales\"])\n",
        "df3.groupby(\"City\").min().head()\n",
        "df3.groupby(\"City\").max().head()\n",
        "df3.groupby(\"City\").mean().head()\n"
      ],
      "execution_count": 109,
      "outputs": [
        {
          "output_type": "execute_result",
          "data": {
            "text/html": [
              "<div>\n",
              "<style scoped>\n",
              "    .dataframe tbody tr th:only-of-type {\n",
              "        vertical-align: middle;\n",
              "    }\n",
              "\n",
              "    .dataframe tbody tr th {\n",
              "        vertical-align: top;\n",
              "    }\n",
              "\n",
              "    .dataframe thead th {\n",
              "        text-align: right;\n",
              "    }\n",
              "</style>\n",
              "<table border=\"1\" class=\"dataframe\">\n",
              "  <thead>\n",
              "    <tr style=\"text-align: right;\">\n",
              "      <th></th>\n",
              "      <th>Sales</th>\n",
              "    </tr>\n",
              "    <tr>\n",
              "      <th>City</th>\n",
              "      <th></th>\n",
              "    </tr>\n",
              "  </thead>\n",
              "  <tbody>\n",
              "    <tr>\n",
              "      <th>Chennai</th>\n",
              "      <td>873</td>\n",
              "    </tr>\n",
              "    <tr>\n",
              "      <th>Delhi</th>\n",
              "      <td>684</td>\n",
              "    </tr>\n",
              "    <tr>\n",
              "      <th>Hyderabad</th>\n",
              "      <td>387</td>\n",
              "    </tr>\n",
              "    <tr>\n",
              "      <th>Mumbai</th>\n",
              "      <td>784</td>\n",
              "    </tr>\n",
              "  </tbody>\n",
              "</table>\n",
              "</div>"
            ],
            "text/plain": [
              "           Sales\n",
              "City            \n",
              "Chennai      873\n",
              "Delhi        684\n",
              "Hyderabad    387\n",
              "Mumbai       784"
            ]
          },
          "metadata": {},
          "execution_count": 109
        }
      ]
    },
    {
      "cell_type": "code",
      "metadata": {
        "id": "NAluZ0b4oD7v"
      },
      "source": [
        ""
      ],
      "execution_count": null,
      "outputs": []
    }
  ]
}